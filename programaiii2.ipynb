{
 "cells": [
  {
   "cell_type": "code",
   "execution_count": 6,
   "metadata": {},
   "outputs": [],
   "source": [
    "#estrutura crescente\n",
    "tempo = 1\n",
    "fim_do_mundo = 5\n",
    "while tempo < fim_do_mundo:\n",
    "  print(\"Faltam\", tempo, \"para o fim do mundo\")\n",
    "  tempo = tempo + 1\n",
    "print (\"O fim do mundo chegou\")"
   ]
  },
  {
   "cell_type": "code",
   "execution_count": null,
   "metadata": {},
   "outputs": [
    {
     "name": "stdout",
     "output_type": "stream",
     "text": [
      " 5 minuto para o fim do mundo\n",
      " 4 minuto para o fim do mundo\n",
      " 3 minuto para o fim do mundo\n",
      " 2 minuto para o fim do mundo\n",
      " 1 minuto para o fim do mundo\n",
      "Toda sua vida em 60 segundos\n"
     ]
    }
   ],
   "source": [
    "#strutura decrescente\n",
    "\n",
    "fim_domundo_2 = 5 #valor de inicio da contagem regressiva\n",
    "\n",
    "while fim_domundo_2 > 0: # onde a contagem deve parar\n",
    "  print(\"\", fim_domundo_2, \"minuto para o fim do mundo\") #o resiltado que eu quero imprimir\n",
    "  fim_domundo_2 -= 1 #encrementador (soma), o proximo resultado ate o limite dado, por exemplo se for mais dois\n",
    "                           # vai imprimir resultados de dois, se for mais três resultados de três, nesse caso com sinal de menos pq eu quero que numero caia\n",
    "\n",
    "print (\"Toda sua vida em 60 segundos\")"
   ]
  },
  {
   "cell_type": "code",
   "execution_count": null,
   "metadata": {},
   "outputs": [
    {
     "name": "stdout",
     "output_type": "stream",
     "text": [
      "4 x 0 = 0\n",
      "4 x 1 = 4\n",
      "4 x 2 = 8\n",
      "4 x 3 = 12\n",
      "4 x 4 = 16\n",
      "4 x 5 = 20\n",
      "4 x 6 = 24\n",
      "4 x 7 = 28\n",
      "4 x 8 = 32\n",
      "4 x 9 = 36\n",
      "4 x 10 = 40\n"
     ]
    }
   ],
   "source": [
    "multiplicador = 4  #numero pelo qual eu queria que multiplicasse\n",
    "contador = 0 #numero que tem que começar a tabuada\n",
    "\n",
    "while contador <= 10: #a tabuada tem que ser de 1 a 10 portanto eu coloquei maior ou igual pra limitar ate onde vai\n",
    "  print(multiplicador, \"x\", contador, \"=\", multiplicador * contador) #imprimi o valor e coloquei a operação\n",
    "  contador = contador + 1 #encrementador (soma), o proximo resultado ate o limite dado, por exemplo se for mais dois\n",
    "                           # vai imprimir resultados de dois, se for mais três resultados de três"
   ]
  },
  {
   "cell_type": "code",
   "execution_count": 5,
   "metadata": {},
   "outputs": [
    {
     "name": "stdout",
     "output_type": "stream",
     "text": [
      "3 x 0 = 0\n",
      "3 x 1 = 3\n",
      "3 x 2 = 6\n",
      "3 x 3 = 9\n",
      "3 x 4 = 12\n",
      "3 x 5 = 15\n",
      "3 x 6 = 18\n",
      "3 x 7 = 21\n",
      "3 x 8 = 24\n",
      "3 x 9 = 27\n",
      "3 x 10 = 30\n"
     ]
    }
   ],
   "source": [
    "multiplicador = int(input(\"Digite o multiplicador: \"))  #numero pelo qual eu queria que multiplicassemultiplique\n",
    "contador = 0 #numero que tem que começar a tabuada\n",
    "\n",
    "while contador <= 10: #a tabuada tem que ser de 1 a 10 portanto eu coloquei menor ou igual pra limitar ate onde vai\n",
    "  print(multiplicador, \"x\", contador, \"=\", multiplicador * contador) #imprimi o valor e coloquei a operação\n",
    "  contador = contador + 1  #encrementador (soma), o proximo resultado ate o limite dado, por exemplo se for mais dois\n",
    "                           # vai imprimir resultados de dois, se for mais três resultados de três"
   ]
  },
  {
   "cell_type": "code",
   "execution_count": 1,
   "metadata": {},
   "outputs": [
    {
     "name": "stdout",
     "output_type": "stream",
     "text": [
      "0\n",
      "4\n",
      "8\n",
      "12\n",
      "16\n",
      "20\n",
      "24\n",
      "28\n",
      "32\n",
      "36\n",
      "40\n"
     ]
    }
   ],
   "source": [
    "numero = 40 # ate onde vai meu internavalo\n",
    "\n",
    "for (numero) in range(0, 41, 4): #\n",
    "  print(numero)"
   ]
  },
  {
   "cell_type": "code",
   "execution_count": 2,
   "metadata": {},
   "outputs": [
    {
     "name": "stdout",
     "output_type": "stream",
     "text": [
      "2\n",
      "4\n",
      "6\n",
      "8\n",
      "10\n",
      "12\n"
     ]
    }
   ],
   "source": [
    "#numero da onde eu quero que comece\n",
    "\n",
    "for indice in range(1, 12, 2): #numero 1 é da onde eu quero que comece, numero 11 até onde eu quero que imprima, e numero 2 de quanto em quanto\n",
    "  print(indice + 1) # +1 pra começar a parti do um mas os numeros pares se nao for par vai comerçar do proximos depois do zero"
   ]
  },
  {
   "cell_type": "code",
   "execution_count": 3,
   "metadata": {},
   "outputs": [
    {
     "name": "stdout",
     "output_type": "stream",
     "text": [
      "A soma de 1 a 5 é: 15\n"
     ]
    }
   ],
   "source": [
    "soma = 0  # a formula vai somar todos os itens da lista qu esta abrigado em soma por isso ele soma no final o falor dos numro naturais\n",
    "\n",
    "for i in range(1, 6):\n",
    "    soma = soma + i\n",
    " \n",
    "print(\"A soma de 1 a 5 é:\", soma)\n"
   ]
  },
  {
   "cell_type": "code",
   "execution_count": 4,
   "metadata": {},
   "outputs": [
    {
     "name": "stdout",
     "output_type": "stream",
     "text": [
      "banana\n",
      "maça\n",
      "leite\n",
      "queijo\n",
      "arroz\n",
      "açucar\n"
     ]
    }
   ],
   "source": [
    "#listas\n",
    "lista_de_compras = [\"banana\", \"maça\", \"leite\", \"queijo\", \"arroz\", \"açucar\"]\n",
    "for i in lista_de_compras:\n",
    "    print(i)"
   ]
  },
  {
   "cell_type": "code",
   "execution_count": 5,
   "metadata": {},
   "outputs": [
    {
     "name": "stdout",
     "output_type": "stream",
     "text": [
      "A cor é:  azul\n",
      "A cor é:  verde\n",
      "A cor é:  amarelo\n",
      "A cor é:  vermelho\n"
     ]
    }
   ],
   "source": [
    "#tuplas\n",
    "cores_cor = [\"azul\", \"verde\", \"amarelo\", \"vermelho\"]\n",
    "for i in cores_cor:\n",
    "    print(\"A cor é: \", i)"
   ]
  },
  {
   "cell_type": "code",
   "execution_count": 6,
   "metadata": {},
   "outputs": [
    {
     "name": "stdout",
     "output_type": "stream",
     "text": [
      "A princesa do filme Moana é a Moana\n",
      "A princesa do filme A Bela e a Fera é a Bela\n",
      "A princesa do filme A princesa e o Sapo é a Tiana\n"
     ]
    }
   ],
   "source": [
    "lista_de_filmes = {\n",
    "\"Moana\" : \"Moana\",\n",
    "\"A Bela e a Fera\" : \"Bela\",\n",
    "\"A princesa e o Sapo\" : \"Tiana\"\n",
    "}\n",
    "for filme, princesa in lista_de_filmes.items():       # A atribuição da virgula \"filme, princesa\" pega todas as informações do dicionario\n",
    "                                                        # .items é uma forma do python entender que as informaçõs que ele precisa estão naquela atribuição                                                      \n",
    "    print(f\"A princesa do filme {filme} é a {princesa}\") "
   ]
  }
 ],
 "metadata": {
  "kernelspec": {
   "display_name": "Python 3",
   "language": "python",
   "name": "python3"
  },
  "language_info": {
   "codemirror_mode": {
    "name": "ipython",
    "version": 3
   },
   "file_extension": ".py",
   "mimetype": "text/x-python",
   "name": "python",
   "nbconvert_exporter": "python",
   "pygments_lexer": "ipython3",
   "version": "3.12.4"
  }
 },
 "nbformat": 4,
 "nbformat_minor": 2
}
